{
 "cells": [
  {
   "cell_type": "markdown",
   "metadata": {
    "azdata_cell_guid": "c9a57f69-e372-43d2-94fc-ab1a9097069f"
   },
   "source": [
    "# Checkpoint Five: Modeling Data\n",
    "\n",
    "With your visualizations ready to go, the final step in your project is to do some predictive analysis on your dataset. You will be using linear regression for your model. You will not be penalized if your linear regression model does not work out. You just need to build the model and make notes as to the results.\n",
    "\n",
    "Link to my dataset: https://docs.google.com/document/d/1rFITr7akurDRDU3FfO9qYtU2WChyhUpGosbBlvxHTMA/edit?usp=sharing\n",
    "## Prepare Your Dataframe\n",
    "\n",
    "Import any libraries you need and create a dataframe."
   ]
  },
  {
   "cell_type": "code",
   "execution_count": 46,
   "metadata": {
    "azdata_cell_guid": "f9287db4-8af9-4bce-9a54-ffeeee0e045f"
   },
   "outputs": [],
   "source": [
    "import pandas as pd\n",
    "import numpy as np\n",
    "import seaborn as sns\n",
    "import matplotlib.pyplot as plt\n",
    "import statsmodels.api as sm\n",
    "from sklearn.metrics import r2_score\n",
    "from sklearn.model_selection import train_test_split\n",
    "from sklearn.linear_model import LinearRegression\n",
    "\n",
    "national_df = pd.read_csv('national_df_LR.csv')"
   ]
  },
  {
   "cell_type": "code",
   "execution_count": 47,
   "metadata": {},
   "outputs": [
    {
     "data": {
      "text/html": [
       "<div>\n",
       "<style scoped>\n",
       "    .dataframe tbody tr th:only-of-type {\n",
       "        vertical-align: middle;\n",
       "    }\n",
       "\n",
       "    .dataframe tbody tr th {\n",
       "        vertical-align: top;\n",
       "    }\n",
       "\n",
       "    .dataframe thead th {\n",
       "        text-align: right;\n",
       "    }\n",
       "</style>\n",
       "<table border=\"1\" class=\"dataframe\">\n",
       "  <thead>\n",
       "    <tr style=\"text-align: right;\">\n",
       "      <th></th>\n",
       "      <th>OCC_CODE</th>\n",
       "      <th>OCC_TITLE</th>\n",
       "      <th>O_GROUP</th>\n",
       "      <th>TOT_EMP</th>\n",
       "      <th>A_MEAN</th>\n",
       "      <th>H_MEAN</th>\n",
       "      <th>Year</th>\n",
       "      <th>AREA_TITLE</th>\n",
       "    </tr>\n",
       "  </thead>\n",
       "  <tbody>\n",
       "    <tr>\n",
       "      <th>0</th>\n",
       "      <td>270000</td>\n",
       "      <td>Arts, Design, Entertainment, Sports, and Media...</td>\n",
       "      <td>major</td>\n",
       "      <td>1815290.0</td>\n",
       "      <td>66100.0</td>\n",
       "      <td>31.78</td>\n",
       "      <td>2021</td>\n",
       "      <td>U.S.</td>\n",
       "    </tr>\n",
       "    <tr>\n",
       "      <th>1</th>\n",
       "      <td>271000</td>\n",
       "      <td>Art and Design Workers</td>\n",
       "      <td>minor</td>\n",
       "      <td>609150.0</td>\n",
       "      <td>58910.0</td>\n",
       "      <td>28.32</td>\n",
       "      <td>2021</td>\n",
       "      <td>U.S.</td>\n",
       "    </tr>\n",
       "    <tr>\n",
       "      <th>2</th>\n",
       "      <td>271010</td>\n",
       "      <td>Artists and Related Workers</td>\n",
       "      <td>broad</td>\n",
       "      <td>83070.0</td>\n",
       "      <td>95330.0</td>\n",
       "      <td>45.83</td>\n",
       "      <td>2021</td>\n",
       "      <td>U.S.</td>\n",
       "    </tr>\n",
       "    <tr>\n",
       "      <th>3</th>\n",
       "      <td>271011</td>\n",
       "      <td>Art Directors</td>\n",
       "      <td>detailed</td>\n",
       "      <td>42080.0</td>\n",
       "      <td>115430.0</td>\n",
       "      <td>55.50</td>\n",
       "      <td>2021</td>\n",
       "      <td>U.S.</td>\n",
       "    </tr>\n",
       "    <tr>\n",
       "      <th>4</th>\n",
       "      <td>271012</td>\n",
       "      <td>Craft Artists</td>\n",
       "      <td>detailed</td>\n",
       "      <td>3740.0</td>\n",
       "      <td>40730.0</td>\n",
       "      <td>19.58</td>\n",
       "      <td>2021</td>\n",
       "      <td>U.S.</td>\n",
       "    </tr>\n",
       "  </tbody>\n",
       "</table>\n",
       "</div>"
      ],
      "text/plain": [
       "   OCC_CODE                                          OCC_TITLE   O_GROUP  \\\n",
       "0    270000  Arts, Design, Entertainment, Sports, and Media...     major   \n",
       "1    271000                             Art and Design Workers     minor   \n",
       "2    271010                        Artists and Related Workers     broad   \n",
       "3    271011                                      Art Directors  detailed   \n",
       "4    271012                                      Craft Artists  detailed   \n",
       "\n",
       "     TOT_EMP    A_MEAN  H_MEAN  Year AREA_TITLE  \n",
       "0  1815290.0   66100.0   31.78  2021       U.S.  \n",
       "1   609150.0   58910.0   28.32  2021       U.S.  \n",
       "2    83070.0   95330.0   45.83  2021       U.S.  \n",
       "3    42080.0  115430.0   55.50  2021       U.S.  \n",
       "4     3740.0   40730.0   19.58  2021       U.S.  "
      ]
     },
     "execution_count": 47,
     "metadata": {},
     "output_type": "execute_result"
    }
   ],
   "source": [
    "national_df.head()"
   ]
  },
  {
   "cell_type": "code",
   "execution_count": 48,
   "metadata": {},
   "outputs": [
    {
     "data": {
      "text/plain": [
       "OCC_CODE        int64\n",
       "OCC_TITLE      object\n",
       "O_GROUP        object\n",
       "TOT_EMP       float64\n",
       "A_MEAN        float64\n",
       "H_MEAN        float64\n",
       "Year            int64\n",
       "AREA_TITLE     object\n",
       "dtype: object"
      ]
     },
     "execution_count": 48,
     "metadata": {},
     "output_type": "execute_result"
    }
   ],
   "source": [
    "national_df.dtypes"
   ]
  },
  {
   "cell_type": "markdown",
   "metadata": {
    "azdata_cell_guid": "d794ffe0-9cd3-4812-bc7d-f75460cf611c"
   },
   "source": [
    "## Find Correlations\n",
    "\n",
    "Use either pairplot or a heatmap or both to find the two variables with the strongest correlation in your dataset."
   ]
  },
  {
   "cell_type": "code",
   "execution_count": 50,
   "metadata": {},
   "outputs": [
    {
     "data": {
      "image/png": "[encoded data removed]",
      "text/plain": [
       "<Figure size 432x288 with 2 Axes>"
      ]
     },
     "metadata": {
      "needs_background": "light"
     },
     "output_type": "display_data"
    }
   ],
   "source": [
    "sns.heatmap(national_df.corr(), cmap='Greys', annot = True)\n",
    "plt.show()"
   ]
  },
  {
   "cell_type": "code",
   "execution_count": 53,
   "metadata": {},
   "outputs": [
    {
     "data": {
      "image/png": "[encoded data removed]",
      "text/plain": [
       "<Figure size 576x288 with 2 Axes>"
      ]
     },
     "metadata": {
      "needs_background": "light"
     },
     "output_type": "display_data"
    }
   ],
   "source": [
    "sns.pairplot(national_df, x_vars=['OCC_CODE', 'Year'], y_vars = 'A_MEAN', size = 4, aspect=1, kind= 'scatter')\n",
    "plt.show()"
   ]
  },
  {
   "cell_type": "markdown",
   "metadata": {
    "azdata_cell_guid": "b75b6098-4152-4701-9136-a8f774c8583e"
   },
   "source": [
    "## Create Your Model\n",
    "\n",
    "Use the two columns with the strongest correlation to create and train your model. Make sure to print out the summary and plot the column values and the line produced by the model."
   ]
  },
  {
   "cell_type": "code",
   "execution_count": 78,
   "metadata": {
    "azdata_cell_guid": "05ecd9c7-e4a4-4d5c-b092-3dff597e96a3"
   },
   "outputs": [],
   "source": [
    "#assign x and y\n",
    "x = national_df['OCC_CODE']\n",
    "y = national_df['TOT_EMP']"
   ]
  },
  {
   "cell_type": "code",
   "execution_count": 79,
   "metadata": {
    "azdata_cell_guid": "f55fbe86-74b8-44f7-af96-7448e58983d7",
    "tags": []
   },
   "outputs": [],
   "source": [
    "#splitting the varaiables as training and testing\n",
    "\n",
    "from sklearn.model_selection import train_test_split\n",
    "x_train, x_test, y_train, y_test = train_test_split(x, y, train_size = 0.7, test_size = 0.3, random_state = 100)"
   ]
  },
  {
   "cell_type": "code",
   "execution_count": 80,
   "metadata": {},
   "outputs": [
    {
     "name": "stdout",
     "output_type": "stream",
     "text": [
      "73     271027\n",
      "37     273040\n",
      "6      271014\n",
      "25     272041\n",
      "21     272030\n",
      "        ...  \n",
      "87     273000\n",
      "103    274011\n",
      "67     271021\n",
      "24     272040\n",
      "8      271020\n",
      "Name: OCC_CODE, Length: 114, dtype: int64\n"
     ]
    },
    {
     "data": {
      "text/plain": [
       "73      10980.0\n",
       "37     185810.0\n",
       "6       20430.0\n",
       "25       9560.0\n",
       "21       7850.0\n",
       "         ...   \n",
       "87     591650.0\n",
       "103     62360.0\n",
       "67      30100.0\n",
       "24      33640.0\n",
       "8      526080.0\n",
       "Name: TOT_EMP, Length: 114, dtype: float64"
      ]
     },
     "execution_count": 80,
     "metadata": {},
     "output_type": "execute_result"
    }
   ],
   "source": [
    "print(x_train)\n",
    "y_train"
   ]
  },
  {
   "cell_type": "code",
   "execution_count": 81,
   "metadata": {},
   "outputs": [],
   "source": [
    "#build the model\n",
    "x_train_sm = sm.add_constant(x_train)"
   ]
  },
  {
   "cell_type": "code",
   "execution_count": 82,
   "metadata": {},
   "outputs": [
    {
     "data": {
      "text/plain": [
       "const       1.658870e+07\n",
       "OCC_CODE   -6.044591e+01\n",
       "dtype: float64"
      ]
     },
     "execution_count": 82,
     "metadata": {},
     "output_type": "execute_result"
    }
   ],
   "source": [
    "#Fitting the regression line using Ordinary Least Square\n",
    "lr = sm.OLS(y_train, x_train_sm).fit()\n",
    "lr.params"
   ]
  },
  {
   "cell_type": "code",
   "execution_count": 83,
   "metadata": {},
   "outputs": [
    {
     "data": {
      "text/html": [
       "<table class=\"simpletable\">\n",
       "<caption>OLS Regression Results</caption>\n",
       "<tr>\n",
       "  <th>Dep. Variable:</th>         <td>TOT_EMP</td>     <th>  R-squared:         </th> <td>   0.071</td>\n",
       "</tr>\n",
       "<tr>\n",
       "  <th>Model:</th>                   <td>OLS</td>       <th>  Adj. R-squared:    </th> <td>   0.063</td>\n",
       "</tr>\n",
       "<tr>\n",
       "  <th>Method:</th>             <td>Least Squares</td>  <th>  F-statistic:       </th> <td>   8.551</td>\n",
       "</tr>\n",
       "<tr>\n",
       "  <th>Date:</th>             <td>Sat, 04 Mar 2023</td> <th>  Prob (F-statistic):</th>  <td>0.00418</td>\n",
       "</tr>\n",
       "<tr>\n",
       "  <th>Time:</th>                 <td>18:28:28</td>     <th>  Log-Likelihood:    </th> <td> -1581.5</td>\n",
       "</tr>\n",
       "<tr>\n",
       "  <th>No. Observations:</th>      <td>   114</td>      <th>  AIC:               </th> <td>   3167.</td>\n",
       "</tr>\n",
       "<tr>\n",
       "  <th>Df Residuals:</th>          <td>   112</td>      <th>  BIC:               </th> <td>   3172.</td>\n",
       "</tr>\n",
       "<tr>\n",
       "  <th>Df Model:</th>              <td>     1</td>      <th>                     </th>     <td> </td>   \n",
       "</tr>\n",
       "<tr>\n",
       "  <th>Covariance Type:</th>      <td>nonrobust</td>    <th>                     </th>     <td> </td>   \n",
       "</tr>\n",
       "</table>\n",
       "<table class=\"simpletable\">\n",
       "<tr>\n",
       "      <td></td>        <th>coef</th>     <th>std err</th>      <th>t</th>      <th>P>|t|</th>  <th>[0.025</th>    <th>0.975]</th>  \n",
       "</tr>\n",
       "<tr>\n",
       "  <th>const</th>    <td> 1.659e+07</td> <td> 5.63e+06</td> <td>    2.946</td> <td> 0.004</td> <td> 5.43e+06</td> <td> 2.77e+07</td>\n",
       "</tr>\n",
       "<tr>\n",
       "  <th>OCC_CODE</th> <td>  -60.4459</td> <td>   20.671</td> <td>   -2.924</td> <td> 0.004</td> <td> -101.402</td> <td>  -19.490</td>\n",
       "</tr>\n",
       "</table>\n",
       "<table class=\"simpletable\">\n",
       "<tr>\n",
       "  <th>Omnibus:</th>       <td>134.799</td> <th>  Durbin-Watson:     </th> <td>   2.069</td>\n",
       "</tr>\n",
       "<tr>\n",
       "  <th>Prob(Omnibus):</th> <td> 0.000</td>  <th>  Jarque-Bera (JB):  </th> <td>2692.859</td>\n",
       "</tr>\n",
       "<tr>\n",
       "  <th>Skew:</th>          <td> 4.236</td>  <th>  Prob(JB):          </th> <td>    0.00</td>\n",
       "</tr>\n",
       "<tr>\n",
       "  <th>Kurtosis:</th>      <td>25.252</td>  <th>  Cond. No.          </th> <td>6.34e+07</td>\n",
       "</tr>\n",
       "</table><br/><br/>Notes:<br/>[1] Standard Errors assume that the covariance matrix of the errors is correctly specified.<br/>[2] The condition number is large, 6.34e+07. This might indicate that there are<br/>strong multicollinearity or other numerical problems."
      ],
      "text/plain": [
       "<class 'statsmodels.iolib.summary.Summary'>\n",
       "\"\"\"\n",
       "                            OLS Regression Results                            \n",
       "==============================================================================\n",
       "Dep. Variable:                TOT_EMP   R-squared:                       0.071\n",
       "Model:                            OLS   Adj. R-squared:                  0.063\n",
       "Method:                 Least Squares   F-statistic:                     8.551\n",
       "Date:                Sat, 04 Mar 2023   Prob (F-statistic):            0.00418\n",
       "Time:                        18:28:28   Log-Likelihood:                -1581.5\n",
       "No. Observations:                 114   AIC:                             3167.\n",
       "Df Residuals:                     112   BIC:                             3172.\n",
       "Df Model:                           1                                         \n",
       "Covariance Type:            nonrobust                                         \n",
       "==============================================================================\n",
       "                 coef    std err          t      P>|t|      [0.025      0.975]\n",
       "------------------------------------------------------------------------------\n",
       "const       1.659e+07   5.63e+06      2.946      0.004    5.43e+06    2.77e+07\n",
       "OCC_CODE     -60.4459     20.671     -2.924      0.004    -101.402     -19.490\n",
       "==============================================================================\n",
       "Omnibus:                      134.799   Durbin-Watson:                   2.069\n",
       "Prob(Omnibus):                  0.000   Jarque-Bera (JB):             2692.859\n",
       "Skew:                           4.236   Prob(JB):                         0.00\n",
       "Kurtosis:                      25.252   Cond. No.                     6.34e+07\n",
       "==============================================================================\n",
       "\n",
       "Notes:\n",
       "[1] Standard Errors assume that the covariance matrix of the errors is correctly specified.\n",
       "[2] The condition number is large, 6.34e+07. This might indicate that there are\n",
       "strong multicollinearity or other numerical problems.\n",
       "\"\"\""
      ]
     },
     "execution_count": 83,
     "metadata": {},
     "output_type": "execute_result"
    }
   ],
   "source": [
    "lr.summary()"
   ]
  },
  {
   "cell_type": "code",
   "execution_count": 85,
   "metadata": {},
   "outputs": [
    {
     "data": {
      "image/png": "[encoded data removed]",
      "text/plain": [
       "<Figure size 432x288 with 1 Axes>"
      ]
     },
     "metadata": {
      "needs_background": "light"
     },
     "output_type": "display_data"
    }
   ],
   "source": [
    "#Visualize the regression line\n",
    "plt.scatter(x_train, y_train)\n",
    "plt.plot(x_train, 1.658870e+07 + -6.044591e+01*x_train, 'r')\n",
    "plt.show()"
   ]
  },
  {
   "cell_type": "code",
   "execution_count": 86,
   "metadata": {},
   "outputs": [],
   "source": [
    "#Perform residual analysis\n",
    "#Predict y_value using training data of x\n",
    "y_train_pred = lr.predict(x_train_sm)\n",
    "\n",
    "#Creating residuals from the y_train data and predicted y_data\n",
    "res = (y_train - y_train_pred)"
   ]
  },
  {
   "cell_type": "markdown",
   "metadata": {
    "azdata_cell_guid": "c021f50d-92b2-4359-b3a9-c47f62f0a94f"
   },
   "source": [
    "## Error Terms\n",
    "\n",
    "Finally, plot your error terms!"
   ]
  },
  {
   "cell_type": "code",
   "execution_count": 87,
   "metadata": {
    "azdata_cell_guid": "87480c6c-1bb6-4135-953a-c74ba3da518d"
   },
   "outputs": [
    {
     "data": {
      "image/png": "[encoded data removed]",
      "text/plain": [
       "<Figure size 432x288 with 1 Axes>"
      ]
     },
     "metadata": {
      "needs_background": "light"
     },
     "output_type": "display_data"
    }
   ],
   "source": [
    "#plotting histogram using the residul values\n",
    "fig = plt.figure()\n",
    "sns.distplot(res, bins = 15)\n",
    "plt.title('Error Terms', fontsize = 15)\n",
    "plt.xlabel('y_train - y)train_pred', fontsize = 15)\n",
    "plt.show()"
   ]
  },
  {
   "cell_type": "markdown",
   "metadata": {
    "azdata_cell_guid": "5fc50d24-c873-4801-87f2-a1e518caf424"
   },
   "source": [
    "## Summarize Your Work\n",
    "\n",
    "Make notes of your answers to the questions below.\n",
    "\n",
    "1. What was your R-squared value? 0.071, by any measure (financial or scientific purposes)this is considered to be too low to be considered reliable.\n",
    "2. Based on your results, do you think a linear regression model was the best type of predictive analysis for your dataset? No, this would not be the best way to predict the total number of employees based on their occupation.\n",
    "3. Was your plot of the error terms a bell curve? Yes, but it is multimodal with the most significant curve being leptokurtic and positive skewed."
   ]
  }
 ],
 "metadata": {
  "kernelspec": {
   "display_name": "Python 3 (ipykernel)",
   "language": "python",
   "name": "python3"
  },
  "language_info": {
   "codemirror_mode": {
    "name": "ipython",
    "version": 3
   },
   "file_extension": ".py",
   "mimetype": "text/x-python",
   "name": "python",
   "nbconvert_exporter": "python",
   "pygments_lexer": "ipython3",
   "version": "3.9.12"
  }
 },
 "nbformat": 4,
 "nbformat_minor": 4
}
